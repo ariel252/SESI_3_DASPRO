{
 "cells": [
  {
   "cell_type": "code",
   "execution_count": 4,
   "id": "d32c9714",
   "metadata": {},
   "outputs": [
    {
     "name": "stdout",
     "output_type": "stream",
     "text": [
      "Nama : ariel\n",
      "umur : 20\n",
      "Alamat : JL. Cibolang\n",
      "Nilia Pemrograman : 90.9\n",
      "Status Menikah : False\n"
     ]
    }
   ],
   "source": [
    "name = \"ariel\"\n",
    "age = 20\n",
    "address,province= \"JL. Cibolang\",\"7413412\"\n",
    "scorePhyton = 90.9\n",
    "isMarried = False\n",
    "\n",
    "print(\"Nama :\",name)\n",
    "print(\"umur :\",age)\n",
    "print(\"Alamat :\",address)\n",
    "print(\"Nilia Pemrograman :\",scorePhyton)\n",
    "print(\"Status Menikah :\",isMarried )"
   ]
  },
  {
   "cell_type": "code",
   "execution_count": 8,
   "id": "913eb11f",
   "metadata": {
    "scrolled": true
   },
   "outputs": [
    {
     "name": "stdout",
     "output_type": "stream",
     "text": [
      "Tipe Data <name> <class 'str'>\n",
      "Tipe Data <age> <class 'int'>\n",
      "Tipe Data <address> <class 'str'>\n",
      "Tipe Data <province> <class 'str'>\n",
      "Tipe Data <scorePhyton> <class 'float'>\n",
      "Tipe Data <isMarried> <class 'bool'>\n"
     ]
    }
   ],
   "source": [
    "print(\"Tipe Data <name>\",type(name))\n",
    "print(\"Tipe Data <age>\",type(age))\n",
    "print(\"Tipe Data <address>\",type(address))\n",
    "print(\"Tipe Data <province>\",type(province))\n",
    "print(\"Tipe Data <scorePhyton>\",type(scorePhyton))\n",
    "print(\"Tipe Data <isMarried>\",type(isMarried))"
   ]
  },
  {
   "cell_type": "code",
   "execution_count": 15,
   "id": "bb7da8ce",
   "metadata": {},
   "outputs": [
    {
     "name": "stdout",
     "output_type": "stream",
     "text": [
      "7413412-7413412.0-True\n",
      "20 20.0 True\n",
      "0-0.0-False\n"
     ]
    }
   ],
   "source": [
    "#Casting atau konversi Tipe Data\n",
    "#Konversi dari Stirng ke (int,float,bool)\n",
    "strToInt = int(province)\n",
    "strToFloat = float(province)\n",
    "strToBool = bool(province)\n",
    "print(strToInt,strToFloat,strToBool, sep=\"-\")\n",
    "#konversi dari int ke (str,float,bool)\n",
    "intToStr = str(age)\n",
    "intToFloat = float(age)\n",
    "intToBool = bool(age)\n",
    "print(intToStr,intToFloat,intToBool)\n",
    "#konfersi adri bool ke (int,float,str)\n",
    "boolToInt = int(isMarried)\n",
    "boolToFloat = float(isMarried)\n",
    "boolToStr = str(isMarried)\n",
    "print(boolToInt,boolToFloat,boolToStr, sep=\"-\")"
   ]
  },
  {
   "cell_type": "code",
   "execution_count": 12,
   "id": "6856a8f7",
   "metadata": {},
   "outputs": [
    {
     "name": "stdout",
     "output_type": "stream",
     "text": [
      "m\n",
      "r\n"
     ]
    }
   ],
   "source": [
    "city =  \"makassar\"\n",
    "lenCity = len(city)\n",
    "print(city[0])\n",
    "print(city[lenCity-1])"
   ]
  },
  {
   "cell_type": "code",
   "execution_count": 13,
   "id": "c7b2b343",
   "metadata": {},
   "outputs": [
    {
     "name": "stdout",
     "output_type": "stream",
     "text": [
      "Nilai Desimal : 200\n",
      "Nilai Desimal dari 0xff: 255\n",
      "Nilai Desimal dari 0b1010: 10\n",
      "Nilai Desimal dari 0o377: 255\n",
      "=========\n",
      "Nilai Biner dari: 200 0b11001000\n",
      "Nilai Octal dari: 200 0o310\n",
      "Nilai Hexa adri: 200 0xc8\n"
     ]
    }
   ],
   "source": [
    "desimal = 200\n",
    "hexa = 0xff\n",
    "biner = 0b1010\n",
    "octal = 0o377\n",
    "\n",
    "print(\"Nilai Desimal :\",desimal)\n",
    "print(\"Nilai Desimal dari 0xff:\",hexa)\n",
    "print(\"Nilai Desimal dari 0b1010:\",biner)\n",
    "print(\"Nilai Desimal dari 0o377:\",octal)\n",
    "print(\"=========\")\n",
    "print(\"Nilai Biner dari:\",desimal, bin(desimal))\n",
    "print(\"Nilai Octal dari:\",desimal, oct(desimal))\n",
    "print(\"Nilai Hexa adri:\",desimal, hex(desimal))"
   ]
  },
  {
   "cell_type": "code",
   "execution_count": 48,
   "id": "0af42a95",
   "metadata": {},
   "outputs": [
    {
     "ename": "SyntaxError",
     "evalue": "invalid syntax (811892761.py, line 14)",
     "output_type": "error",
     "traceback": [
      "\u001b[1;36m  Input \u001b[1;32mIn [48]\u001b[1;36m\u001b[0m\n\u001b[1;33m    studentData =\u001b[0m\n\u001b[1;37m                 ^\u001b[0m\n\u001b[1;31mSyntaxError\u001b[0m\u001b[1;31m:\u001b[0m invalid syntax\n"
     ]
    }
   ],
   "source": [
    "# Tipe data collection\n",
    "\n",
    "cities = [\"Sukabumi\",\"Ngawi\",\"Bogor\",\"Jakarta\"]\n",
    "print(cities)\n",
    "print(cities[0])\n",
    "print(cities[len(cities)-1])\n",
    "\n",
    "#Tuple\n",
    "names = (\"Andi\", \"Budi\", \"Caca\")\n",
    "print(names)\n",
    "#names[0] = \"Rudi\"akan menyebabkan error, karena tuple adalah immutable\n",
    "\n",
    "\n",
    "studentData =\n",
    "    {\n",
    "    \"name\" : \"Ariel\",\n",
    "    \"address\" : {\n",
    "            \"street\" : \"Nagrak\",\n",
    "            \"number\" : 21,\n",
    "            \"province\" : \"West Java\"\n",
    "    },\n",
    "    \"hobbies\": [\"Tenis\",\"Bola\"],\n",
    "    \"age\": 20,\n",
    "    \"isMarried\" : True\n",
    "}\n",
    "#List Of Dictionary\n",
    "listStudent = [\n",
    "    {\n",
    "    \"name\" : \"Ariel\",\n",
    "    \"address\" : {\n",
    "            \"street\" : \"Nagrak\",\n",
    "            \"number\" : 21,\n",
    "            \"province\" : \"West Java\"\n",
    "    },\n",
    "    \"hobbies\": [\"Tenis\",\"Bola\"],\n",
    "    \"age\": 20,\n",
    "    \"isMarried\" : True\n",
    "},\n",
    "    {\n",
    "    \"name\" : \"Ariel\",\n",
    "    \"address\" : {\n",
    "            \"street\" : \"Nagrak\",\n",
    "            \"number\" : 21,\n",
    "            \"province\" : \"West Java\"\n",
    "    },\n",
    "    \"hobbies\": [\"Tenis\",\"Bola\"],\n",
    "    \"age\": 20,\n",
    "    \"isMarried\" : True\n",
    "}\n",
    "    \n",
    "    \n",
    "]\n",
    "    \n",
    "    \n",
    "    \n",
    "print(studentData)\n"
   ]
  },
  {
   "cell_type": "code",
   "execution_count": 61,
   "id": "a4b73ec9",
   "metadata": {
    "scrolled": true
   },
   "outputs": [
    {
     "name": "stdout",
     "output_type": "stream",
     "text": [
      "{'name': 'Arile', 'Nilai': 80}\n",
      "{'Buah': 'Apel', 'Harga': 10000}\n"
     ]
    }
   ],
   "source": [
    "#Casting Dictionary\n",
    "\n",
    "list_tuple = [(\"name\",\"Arile\"),(\"Nilai\",80)]\n",
    "dictStudent = dict(list_tuple)\n",
    "print(dictStudent)\n",
    "\n",
    "list_list = [[\"Buah\",\"Apel\"],[\"Harga\",10000]]\n",
    "dictBuah = dict(list_list)\n",
    "print(dictBuah)\n",
    "\n",
    "tuple_tuple = ...\n",
    "tuple_list = ...\n",
    "\n",
    "keys = [\"name\",\"age\",\"address\"]\n",
    "values = [\"Adi\",20,\"Bandung\"]\n",
    "\n",
    "\n",
    "\n"
   ]
  },
  {
   "cell_type": "code",
   "execution_count": null,
   "id": "cde3f014",
   "metadata": {},
   "outputs": [],
   "source": []
  },
  {
   "cell_type": "code",
   "execution_count": null,
   "id": "529b1fed",
   "metadata": {},
   "outputs": [],
   "source": []
  },
  {
   "cell_type": "code",
   "execution_count": null,
   "id": "bf3a428a",
   "metadata": {},
   "outputs": [],
   "source": []
  },
  {
   "cell_type": "code",
   "execution_count": null,
   "id": "19b3bd2f",
   "metadata": {},
   "outputs": [],
   "source": []
  },
  {
   "cell_type": "code",
   "execution_count": null,
   "id": "25c3360e",
   "metadata": {},
   "outputs": [],
   "source": []
  }
 ],
 "metadata": {
  "kernelspec": {
   "display_name": "Python 3 (ipykernel)",
   "language": "python",
   "name": "python3"
  },
  "language_info": {
   "codemirror_mode": {
    "name": "ipython",
    "version": 3
   },
   "file_extension": ".py",
   "mimetype": "text/x-python",
   "name": "python",
   "nbconvert_exporter": "python",
   "pygments_lexer": "ipython3",
   "version": "3.9.12"
  }
 },
 "nbformat": 4,
 "nbformat_minor": 5
}
